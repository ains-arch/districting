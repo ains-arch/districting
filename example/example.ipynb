{
 "cells": [
  {
   "cell_type": "markdown",
   "id": "49899a93",
   "metadata": {},
   "source": [
    "# Math 195: Math of Political Districting\n",
    "# Test that correct pacakges have been set up\n",
    "# Sarah Cannon\n",
    "# Claremont McKenna College"
   ]
  },
  {
   "cell_type": "code",
   "execution_count": null,
   "id": "e883a9d4",
   "metadata": {},
   "outputs": [],
   "source": [
    "#Import packages we'll need in class\n",
    "import networkx as nx\n",
    "import matplotlib.pyplot as plt\n",
    "import numpy as np\n",
    "from numpy import random\n",
    "import pandas as pd\n",
    "import geopandas as gpd\n",
    "import gerrychain   \n",
    "from gerrychain import Graph, Partition, GeographicPartition\n",
    "from gerrychain.tree import recursive_tree_part"
   ]
  },
  {
   "cell_type": "code",
   "execution_count": null,
   "id": "6c875777",
   "metadata": {},
   "outputs": [],
   "source": [
    "# Testing networkx\n",
    "g = nx.Graph() # Make an empty graph\n",
    "g.add_node(\"A\") # Add a node named A; can gives nodes labels that are strings\n",
    "g.add_node(2) # Add a node named 2; can also give nodes labels that are integers\n",
    "g.add_nodes_from([3,4,5]) # Add nodes 3,4,5\n",
    "\n",
    "g.add_edge(\"A\",2) #Add an edge from A to 2\n",
    "g.add_edges_from([(2,3), (2,4), (2,5)]) #Add 3 more edges\n",
    "g.add_edge(\"A\",\"B\") # If B is not already a node, node B is automatically added"
   ]
  },
  {
   "cell_type": "code",
   "execution_count": null,
   "id": "49f0f379",
   "metadata": {},
   "outputs": [],
   "source": [
    "# Testing matplotlib by attempting to draw the graph we just made\n",
    "print(\"A drawing of our graph:\")\n",
    "plt.figure() # start a figure\n",
    "nx.draw(g, node_size = 1000, node_color = 'pink', with_labels = True)\n",
    "plt.show()"
   ]
  },
  {
   "cell_type": "code",
   "execution_count": null,
   "id": "2c90d77e",
   "metadata": {},
   "outputs": [],
   "source": [
    "# Testing numpy by making a matrix and printing it\n",
    "print(\"A numpy matrix:\")\n",
    "a = np.matrix('1 2; 3 4')\n",
    "print(a)"
   ]
  },
  {
   "cell_type": "code",
   "execution_count": null,
   "id": "f8d4b458",
   "metadata": {},
   "outputs": [],
   "source": [
    "# Testing gerrychain by importaing a dual graph and printing the attributes of one node\n",
    "dual_graph = Graph.from_json(\"PA.json\")\n",
    "print(\"The data stored at one vertex of the imported dual graph (PA's Voting Tabulation Districts):\")\n",
    "print(dual_graph.nodes[0])\n",
    "print(\"Number of Nodes: \", len(dual_graph.nodes()))\n",
    "print(\"Population of Node 0: \", (dual_graph.nodes[0])['TOTPOP'])"
   ]
  }
 ],
 "metadata": {
  "kernelspec": {
   "display_name": "Python 3",
   "language": "python",
   "name": "python3"
  }
 },
 "nbformat": 4,
 "nbformat_minor": 5
}
